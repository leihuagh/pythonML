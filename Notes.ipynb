{
 "cells": [
  {
   "cell_type": "markdown",
   "metadata": {},
   "source": [
    "## Using both Python 2.x and Python 3.x in IPython Notebook"
   ]
  },
  {
   "cell_type": "markdown",
   "metadata": {},
   "source": [
    "\n",
    "The idea here is to install multiple ipython kernels. Here are instructions for anaconda. If you are not using anaconda, I recently added instructions using pure virtualenvs.\n",
    "\n",
    "**Anaconda 4.1.0**\n",
    "\n",
    "Since version 4.1.0, anaconda includes a special package nb_conda_kernels that detects conda environments with notebook kernels and automatically registers them. This makes using a new python version as easy as creating new conda environments:\n",
    "\n",
    "    conda create -n py27 python=2.7 ipykernel\n",
    "    conda create -n py36 python=3.6 ipykernel\n",
    "\n",
    "After a restart of jupyter notebook, the new kernels are available over the graphical interface. Please note that new packages have to be explicitly installed into the new enviroments. The Managing environments section in conda's docs provides further information.\n",
    "Manually registering kernels\n",
    "\n",
    "Users who do not want to use nb_conda_kernels or still use older versions of anaconda can use the following steps to manually register ipython kernels.\n",
    "\n",
    "configure the python2.7 environment:\n",
    "\n",
    "    conda create -n py27 python=2.7\n",
    "    source activate py27\n",
    "    conda install notebook ipykernel\n",
    "    ipython kernel install --user\n",
    "\n",
    "configure the python3.6 environment:\n",
    "\n",
    "    conda create -n py36 python=3.6\n",
    "    source activate py36\n",
    "    conda install notebook ipykernel\n",
    "    ipython kernel install --user\n",
    "\n",
    "After that you should be able to choose between python2\n",
    "and python3 when creating a new notebook in the interface.\n",
    "\n",
    "Additionally you can pass the --name and --display-name options to ipython kernel install if you want to change the names of your kernels. See ipython kernel install --help for more informations.\n"
   ]
  },
  {
   "cell_type": "markdown",
   "metadata": {},
   "source": [
    "## Enable Auto Complete\n",
    "\n",
    "    %config IPCompleter.greedy=True"
   ]
  },
  {
   "cell_type": "raw",
   "metadata": {},
   "source": []
  },
  {
   "cell_type": "code",
   "execution_count": null,
   "metadata": {
    "collapsed": true
   },
   "outputs": [],
   "source": [
    "\n",
    "You can also use seaborn styles with matplotlib and not using seaborn at all. E.g. \n",
    "import matplotlib.pyplot as plt\n",
    "plt.style.use(\"seaborn-darkgrid\")\n",
    "s"
   ]
  }
 ],
 "metadata": {
  "kernelspec": {
   "display_name": "Python 3",
   "language": "python",
   "name": "python3"
  },
  "language_info": {
   "codemirror_mode": {
    "name": "ipython",
    "version": 3
   },
   "file_extension": ".py",
   "mimetype": "text/x-python",
   "name": "python",
   "nbconvert_exporter": "python",
   "pygments_lexer": "ipython3",
   "version": "3.6.0"
  }
 },
 "nbformat": 4,
 "nbformat_minor": 2
}
